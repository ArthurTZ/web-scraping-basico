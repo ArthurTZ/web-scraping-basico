{
 "cells": [
  {
   "cell_type": "code",
   "execution_count": null,
   "metadata": {},
   "outputs": [],
   "source": [
    "from time import sleep\n",
    "from webdriver_manager.chrome import ChromeDriverManager\n",
    "from selenium.webdriver.common.keys import Keys\n",
    "from selenium import webdriver\n",
    "from selenium.webdriver.chrome.service import Service\n",
    "\n",
    "\n",
    "servico = Service(ChromeDriverManager().install())\n",
    "\n",
    "produto = input('Nome do produto:  ')\n",
    "\n",
    "navegador = webdriver.Chrome(service=servico)\n",
    "\n",
    "\n",
    "navegador.get('https://www.mercadolivre.com.br')\n",
    "\n",
    "navegador.find_element('xpath', '//*[@id=\"cb1-edit\"]').send_keys(produto)\n",
    "sleep(2.1)\n",
    "\n",
    "navegador.find_element('xpath','//*[@id=\"cb1-edit\"]').send_keys(Keys.ENTER)\n",
    "sleep(2.1)\n",
    "\n",
    "navegador.find_element('xpath', '//*[@id=\"shipping_cost_highlighted\"]').send_keys(Keys.ENTER)\n",
    "\n",
    "\n",
    "\n",
    "\n",
    "\n"
   ]
  },
  {
   "cell_type": "code",
   "execution_count": null,
   "metadata": {},
   "outputs": [],
   "source": [
    "# from time import sleep\n",
    "# from webdriver_manager.chrome import ChromeDriverManager\n",
    "# from selenium.webdriver.chrome.service import Service\n",
    "# from selenium import webdriver"
   ]
  }
 ],
 "metadata": {
  "kernelspec": {
   "display_name": "Python 3",
   "language": "python",
   "name": "python3"
  },
  "language_info": {
   "codemirror_mode": {
    "name": "ipython",
    "version": 3
   },
   "file_extension": ".py",
   "mimetype": "text/x-python",
   "name": "python",
   "nbconvert_exporter": "python",
   "pygments_lexer": "ipython3",
   "version": "3.10.8"
  },
  "orig_nbformat": 4,
  "vscode": {
   "interpreter": {
    "hash": "ef0a65533605571628d2d3aeb5f85b6d9d3cc2187a36bfe71649479f526a0bb1"
   }
  }
 },
 "nbformat": 4,
 "nbformat_minor": 2
}
